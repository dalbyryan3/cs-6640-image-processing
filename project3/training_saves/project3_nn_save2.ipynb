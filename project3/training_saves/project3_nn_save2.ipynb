version https://git-lfs.github.com/spec/v1
oid sha256:d113be80df2e17e70cdd46026089ac28c7ceac65421b170feddfdd6daff62f60
size 2313312
