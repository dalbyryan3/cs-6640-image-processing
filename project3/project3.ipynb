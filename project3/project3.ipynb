version https://git-lfs.github.com/spec/v1
oid sha256:e214f5fec4660bc0e8a9914665bce84ed6770c402226867e801c875e69e6722e
size 2287224
