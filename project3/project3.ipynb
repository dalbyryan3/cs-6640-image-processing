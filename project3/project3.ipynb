version https://git-lfs.github.com/spec/v1
oid sha256:91aaf1fd8523e1ba5ff807033b00704b1ba077d68a3ef71f03fe53938a6d1f21
size 517718
