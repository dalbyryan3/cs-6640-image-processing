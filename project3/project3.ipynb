version https://git-lfs.github.com/spec/v1
oid sha256:6661e604685f189324d53fea2f92627e93191d7cfe79e7677de7d841aba1e7aa
size 7709980
