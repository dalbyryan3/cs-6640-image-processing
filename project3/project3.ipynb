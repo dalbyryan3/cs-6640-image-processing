version https://git-lfs.github.com/spec/v1
oid sha256:9025b2459ee436e59ba35a718f405728ab57c963a1a40104723295ee38a1dfa2
size 23156047
