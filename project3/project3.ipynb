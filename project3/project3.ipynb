version https://git-lfs.github.com/spec/v1
oid sha256:b92814dfc1909252b9af47d30836312195203310e24c4530b161dcea0496864a
size 2223996
